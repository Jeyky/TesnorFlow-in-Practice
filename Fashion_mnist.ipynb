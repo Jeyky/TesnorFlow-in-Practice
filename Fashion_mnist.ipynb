{
  "nbformat": 4,
  "nbformat_minor": 0,
  "metadata": {
    "colab": {
      "name": "Untitled3.ipynb",
      "provenance": [],
      "authorship_tag": "ABX9TyPCGZ9MKJzqA/tMV1LUaO5d"
    },
    "kernelspec": {
      "name": "python3",
      "display_name": "Python 3"
    }
  },
  "cells": [
    {
      "cell_type": "code",
      "metadata": {
        "id": "bt5nep6sCFOp",
        "colab_type": "code",
        "colab": {
          "base_uri": "https://localhost:8080/",
          "height": 1000
        },
        "outputId": "5fce7823-ffce-4aeb-82fa-f14243d7c32e"
      },
      "source": [
        "import tensorflow as tf\n",
        "import matplotlib.pyplot as plt\n",
        "\n",
        "\n",
        "class myCallback(tf.keras.callbacks.Callback):\n",
        "  def on_epoch_end(self, epoch, logs={}):\n",
        "    if logs.get(\"accuracy\")>0.85:\n",
        "      print(\"\\nReached 60% accuracy, so cancelling the training!\")\n",
        "      self.model.stop_training = True\n",
        "\n",
        "mnist=tf.keras.datasets.fashion_mnist\n",
        "(x_train, y_train),(x_test,y_test)=mnist.load_data()\n",
        "plt.imshow(x_test[2],cmap='gray');plt.show()\n",
        "plt.imshow(x_test[3],cmap='gray');plt.show()\n",
        "x_train, x_test=x_train/255.0, x_test/255.0\n",
        "\n",
        "callbacks=myCallback()\n",
        "\n",
        "model=tf.keras.Sequential([\n",
        "  tf.keras.layers.Flatten(input_shape=(28,28)),       #flatten turns data in one dimensional set\n",
        "  tf.keras.layers.Dense(512, activation=tf.nn.relu),\n",
        "  tf.keras.layers.Dense(10, activation=tf.nn.softmax)\n",
        "])\n",
        "model.compile(optimizer=tf.optimizers.Adam(),\n",
        "              loss='sparse_categorical_crossentropy',\n",
        "              metrics=['accuracy'])\n",
        "model.fit(x_train,y_train,epochs=10,callbacks=[callbacks])\n",
        "\n",
        "res=model.evaluate(x_test,y_test)                     #evaluate shows accuracy and loss\n",
        "print(\"res=\",res)\n",
        "classifications=model.predict(x_test)\n",
        "\n",
        "for i in range(1,10):\n",
        "  print(classifications[i])\n",
        "  print(y_test[i])\n",
        "\n",
        "\n"
      ],
      "execution_count": 16,
      "outputs": [
        {
          "output_type": "display_data",
          "data": {
            "image/png": "[encoded data removed]",
            "text/plain": [
              "<Figure size 432x288 with 1 Axes>"
            ]
          },
          "metadata": {
            "tags": []
          }
        },
        {
          "output_type": "display_data",
          "data": {
            "image/png": "[encoded data removed]",
            "text/plain": [
              "<Figure size 432x288 with 1 Axes>"
            ]
          },
          "metadata": {
            "tags": []
          }
        },
        {
          "output_type": "stream",
          "text": [
            "Epoch 1/10\n",
            "1875/1875 [==============================] - 6s 3ms/step - loss: 0.4726 - accuracy: 0.8320\n",
            "Epoch 2/10\n",
            "1870/1875 [============================>.] - ETA: 0s - loss: 0.3587 - accuracy: 0.8689\n",
            "Reached 60% accuracy, so cancelling the training!\n",
            "1875/1875 [==============================] - 6s 3ms/step - loss: 0.3586 - accuracy: 0.8689\n",
            "313/313 [==============================] - 1s 2ms/step - loss: 0.3907 - accuracy: 0.8584\n",
            "res= [0.39067772030830383, 0.8583999872207642]\n",
            "[4.4869928e-05 1.0402373e-07 9.9813902e-01 1.5648281e-07 6.6332397e-04\n",
            " 5.7204019e-10 1.1524068e-03 1.6133782e-10 1.5845879e-07 4.3091971e-11]\n",
            "2\n",
            "[2.2292165e-06 9.9999750e-01 1.2814451e-07 1.5141983e-07 3.3361133e-08\n",
            " 9.0661040e-13 1.1286523e-08 9.2929343e-13 1.0226961e-09 2.3677215e-12]\n",
            "1\n",
            "[6.1561383e-07 9.9999607e-01 1.9000554e-07 3.0569161e-06 4.6102667e-08\n",
            " 3.3170685e-11 8.3452605e-09 8.1490543e-12 1.0660866e-09 8.6876256e-11]\n",
            "1\n",
            "[2.0180088e-01 4.3466012e-04 1.6745430e-01 2.0911284e-02 1.6591759e-02\n",
            " 2.4506147e-04 5.8163816e-01 4.1182589e-04 1.0429515e-02 8.2643870e-05]\n",
            "6\n",
            "[1.41460521e-04 9.99833226e-01 1.33100830e-05 3.21204016e-06\n",
            " 2.40709073e-06 2.05441983e-10 6.26996371e-06 1.04756516e-10\n",
            " 7.71663053e-08 4.88166896e-10]\n",
            "1\n",
            "[3.4065943e-04 2.4359931e-04 1.7195985e-02 5.0579652e-04 9.6409875e-01\n",
            " 2.5220643e-06 1.7059114e-02 3.8329412e-07 5.5286183e-04 2.8082005e-07]\n",
            "4\n",
            "[3.1590395e-04 6.7434407e-06 1.4148790e-02 1.7590009e-04 6.4218208e-02\n",
            " 3.7016416e-05 9.2095077e-01 1.4613730e-06 1.4469890e-04 5.7574982e-07]\n",
            "6\n",
            "[1.9180423e-04 1.1444828e-05 9.9032237e-05 3.8407630e-05 1.5768894e-05\n",
            " 9.9664199e-01 2.4401084e-05 2.8632204e-03 1.0113813e-04 1.2753658e-05]\n",
            "5\n",
            "[2.8844652e-06 5.0439104e-07 7.6888153e-07 7.4919615e-07 1.9928544e-07\n",
            " 4.8087677e-03 5.5685939e-07 9.9445564e-01 4.2346743e-04 3.0652192e-04]\n",
            "7\n"
          ],
          "name": "stdout"
        }
      ]
    }
  ]
}